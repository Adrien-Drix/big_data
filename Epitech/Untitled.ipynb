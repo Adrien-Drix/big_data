{
 "cells": [
  {
   "cell_type": "code",
   "execution_count": 3,
   "id": "b2f21e39-66bd-4370-95ec-aa1f256ef0f7",
   "metadata": {},
   "outputs": [],
   "source": [
    "%load_ext autoreload\n",
    "%autoreload 2\n",
    "from Tool import tool"
   ]
  },
  {
   "cell_type": "code",
   "execution_count": 2,
   "id": "f01b8bd5-cf7a-46ed-ba11-e80747b9045d",
   "metadata": {},
   "outputs": [
    {
     "name": "stdout",
     "output_type": "stream",
     "text": [
      "Convert Test.ipynb to html\n",
      "0\n"
     ]
    }
   ],
   "source": [
    "tool.convert2html(\"Test.ipynb\", outputName = \"test\")"
   ]
  },
  {
   "cell_type": "code",
   "execution_count": 4,
   "id": "e23e2f96-6d47-4e17-a731-834e7ab76a3d",
   "metadata": {},
   "outputs": [
    {
     "name": "stdout",
     "output_type": "stream",
     "text": [
      "0\n"
     ]
    }
   ],
   "source": [
    "tool.test(\"test\")"
   ]
  },
  {
   "cell_type": "code",
   "execution_count": null,
   "id": "b3c53160-6fca-41c6-9a38-764b5c57a0b0",
   "metadata": {},
   "outputs": [],
   "source": []
  }
 ],
 "metadata": {
  "kernelspec": {
   "display_name": "Python 3",
   "language": "python",
   "name": "python3"
  },
  "language_info": {
   "codemirror_mode": {
    "name": "ipython",
    "version": 3
   },
   "file_extension": ".py",
   "mimetype": "text/x-python",
   "name": "python",
   "nbconvert_exporter": "python",
   "pygments_lexer": "ipython3",
   "version": "3.6.15"
  }
 },
 "nbformat": 4,
 "nbformat_minor": 5
}
