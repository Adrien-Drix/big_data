{
 "cells": [
  {
   "cell_type": "code",
   "execution_count": 9,
   "id": "931e46e0-4466-40ac-bee1-fe0d28afa28e",
   "metadata": {},
   "outputs": [],
   "source": [
    "from keras.datasets import mnist\n",
    "from matplotlib import pyplot\n",
    "import numpy as np\n",
    "from sklearn.neighbors import KNeighborsClassifier\n",
    "import pandas as pd\n",
    "from tqdm.notebook import tqdm"
   ]
  },
  {
   "cell_type": "code",
   "execution_count": 29,
   "id": "ee5e535d-d4ba-4a63-a9fa-1aedf678a37d",
   "metadata": {
    "tags": []
   },
   "outputs": [],
   "source": [
    "import matplotlib.pyplot as plt\n",
    "import numpy as np\n",
    "from sklearn.neighbors import KNeighborsClassifier\n",
    "from sklearn.metrics import accuracy_score\n",
    "\n",
    "class MNIST:\n",
    "    \n",
    "    def __init__(self, k = 5):\n",
    "        self.train_X = None\n",
    "        self.train_y = None\n",
    "        self.test_X = None\n",
    "        self.test_y = None\n",
    "        self.k = k\n",
    "        \n",
    "    def get_train_X(self):\n",
    "        return self.train_X\n",
    "    \n",
    "    def get_train_y(self):\n",
    "        return self.train_y\n",
    "        \n",
    "    def get_test_X(self):\n",
    "        return self.test_X\n",
    "        \n",
    "    def get_test_y(self):\n",
    "        return self.test_y\n",
    "   \n",
    "    def load(self):\n",
    "        print('Loading dataset...')\n",
    "        (X, y), (X1, y1) = mnist.load_data()\n",
    "        self.train_X = X\n",
    "        self.train_y = y\n",
    "        self.test_X = X1\n",
    "        self.test_y = y1\n",
    "        print('Dataset loaded !')\n",
    "        \n",
    "    def console(self):\n",
    "        print('X_train: ' + str(self.train_X.shape))\n",
    "        print('Y_train: ' + str(self.train_y.shape))\n",
    "        print('X_test:  '  + str(self.test_X.shape))\n",
    "        print('Y_test:  '  + str(self.test_y.shape))\n",
    "    \n",
    "    def plot_digit_train(self, start: int, end: int):\n",
    "        print(\"Plot from \" + str(start) + \" to \" + str(end) + \" element\")\n",
    "        for i in range(start, end):  \n",
    "            # pyplot.subplot(330 + 1 + i)\n",
    "            print(self.train_y[i])\n",
    "            pyplot.imshow(self.train_X[i], cmap=pyplot.get_cmap('gray'))\n",
    "            pyplot.show()\n",
    "    \n",
    "    def plot_digit_test(self, start: int, end: int):\n",
    "        print(\"Plot from \" + str(start) + \" to \" + str(end) + \" element\")\n",
    "        for i in range(start, end):  \n",
    "            # pyplot.subplot(330 + 1 + i)\n",
    "            print(self.test_y[i])\n",
    "            pyplot.imshow(self.test_X[i], cmap=pyplot.get_cmap('gray'))\n",
    "            pyplot.show()\n",
    "        \n",
    "    def get_occ(self):\n",
    "        list = {}\n",
    "\n",
    "        for i in range(1,11):\n",
    "            # list[i] = {\"train\": np.count_nonzero(self.get_train_X() == i), \"test\": np.count_nonzero(self.get_test_X() == i)}\n",
    "            list[i] = np.count_nonzero(self.get_train_X() == i)\n",
    "            \n",
    "        return list\n",
    "            \n",
    "    def plot_diagram(self,list_occ):\n",
    "\n",
    "        fig, ax = plt.subplots()\n",
    "\n",
    "        # bar_labels = ['red', 'blue', '_red', 'orange']\n",
    "        # bar_colors = ['tab:red', 'tab:blue', 'tab:red', 'tab:orange']\n",
    "\n",
    "        ax.bar(list_occ.keys(), list_occ.values()) #, label=bar_labels, color=bar_colors)\n",
    "\n",
    "        ax.set_ylabel('Occurences')\n",
    "        ax.set_title('Occurences of each digit')\n",
    "        # ax.legend(title='Number')\n",
    "\n",
    "        plt.show()\n",
    "    \n",
    "    def kNN(self, x, k, data, label):\n",
    "        #create a list of distances between the given image and the images of the training set\n",
    "        #distances =[np.linalg.norm(x-data[i]) for i in range(len(data))]\n",
    "        distances =[np.sum(np.square(x-data[i])) for i in range(len(data))]\n",
    "        #Use \"np.argpartition\". It does not sort the entire array. \n",
    "        #It only guarantees that the kth element is in sorted position \n",
    "        # and all smaller elements will be moved before it. \n",
    "        # Thus the first k elements will be the k-smallest elements.\n",
    "        idx = np.argpartition(distances, k)\n",
    "        clas, freq = np.unique(label[idx[:k]], return_counts=True)\n",
    "        return clas[np.argmax(freq)]\n",
    "        \n",
    "    def kNN2(self, k=3):\n",
    "        neigh = KNeighborsClassifier(n_neighbors=k)\n",
    "        \n",
    "        neigh.fit(self.train_X.reshape(self.train_X.shape[0], 28*28), self.train_y)\n",
    "        \n",
    "        expected = self.test_y.tolist()\n",
    "        \n",
    "        predicted = neigh.predict(self.test_X.reshape(self.test_X.shape[0], 28*28))\n",
    "        \n",
    "        # print(accuracy_score(expected, predicted))\n",
    "        return(accuracy_score(expected, predicted))"
   ]
  },
  {
   "cell_type": "code",
   "execution_count": 30,
   "id": "876ef9d6-8117-4651-b336-79ff985bf34f",
   "metadata": {},
   "outputs": [
    {
     "name": "stdout",
     "output_type": "stream",
     "text": [
      "Loading dataset...\n",
      "Dataset loaded !\n"
     ]
    }
   ],
   "source": [
    "o = MNIST()\n",
    "o.load()"
   ]
  },
  {
   "cell_type": "code",
   "execution_count": 31,
   "id": "5243ddfa-13c9-4c20-bfcd-74f98dc89369",
   "metadata": {},
   "outputs": [
    {
     "name": "stdout",
     "output_type": "stream",
     "text": [
      "Plot from 10 to 11 element\n",
      "3\n"
     ]
    },
    {
     "data": {
      "image/png": "[encoded data removed]",
      "text/plain": [
       "<Figure size 432x288 with 1 Axes>"
      ]
     },
     "metadata": {
      "needs_background": "light"
     },
     "output_type": "display_data"
    }
   ],
   "source": [
    "o.plot_digit_train(10, 11)"
   ]
  },
  {
   "cell_type": "code",
   "execution_count": 32,
   "id": "5880bfdf-989b-4af2-a93d-b9ab877b26ed",
   "metadata": {
    "scrolled": true,
    "tags": []
   },
   "outputs": [
    {
     "data": {
      "image/png": "[encoded data removed]",
      "text/plain": [
       "<Figure size 432x288 with 1 Axes>"
      ]
     },
     "metadata": {
      "needs_background": "light"
     },
     "output_type": "display_data"
    }
   ],
   "source": [
    "o.plot_diagram(o.get_occ())"
   ]
  },
  {
   "cell_type": "code",
   "execution_count": 33,
   "id": "e893dee7-8f32-4073-9490-344e5b751e10",
   "metadata": {},
   "outputs": [
    {
     "name": "stdout",
     "output_type": "stream",
     "text": [
      "Plot from 0 to 1 element\n",
      "7\n"
     ]
    },
    {
     "data": {
      "image/png": "[encoded data removed]",
      "text/plain": [
       "<Figure size 432x288 with 1 Axes>"
      ]
     },
     "metadata": {
      "needs_background": "light"
     },
     "output_type": "display_data"
    },
    {
     "name": "stdout",
     "output_type": "stream",
     "text": [
      "Prediction :  7 expectation : None\n"
     ]
    }
   ],
   "source": [
    "p = o.kNN(o.get_test_X()[0], 5, o.get_train_X(), o.get_train_y())\n",
    "e = o.plot_digit_test(0, 1)\n",
    "print(\"Prediction : \", p, \"expectation :\", e)"
   ]
  },
  {
   "cell_type": "code",
   "execution_count": 34,
   "id": "51400da5-50e8-4b7e-af66-358c5e8973ab",
   "metadata": {},
   "outputs": [
    {
     "data": {
      "text/plain": [
       "0.9705"
      ]
     },
     "execution_count": 34,
     "metadata": {},
     "output_type": "execute_result"
    }
   ],
   "source": [
    "o.kNN2(3)"
   ]
  },
  {
   "cell_type": "code",
   "execution_count": 35,
   "id": "8aca42aa-3d68-4698-950f-8e11ef054eb8",
   "metadata": {},
   "outputs": [
    {
     "name": "stdout",
     "output_type": "stream",
     "text": [
      "K :  1\n",
      "K :  2\n",
      "K :  3\n",
      "K :  4\n",
      "K :  5\n",
      "K :  6\n",
      "K :  7\n",
      "K :  8\n",
      "K :  9\n"
     ]
    },
    {
     "data": {
      "text/plain": [
       "<AxesSubplot:xlabel='k'>"
      ]
     },
     "execution_count": 35,
     "metadata": {},
     "output_type": "execute_result"
    },
    {
     "data": {
      "image/png": "[encoded data removed]",
      "text/plain": [
       "<Figure size 432x288 with 1 Axes>"
      ]
     },
     "metadata": {
      "needs_background": "light"
     },
     "output_type": "display_data"
    }
   ],
   "source": [
    "list = []\n",
    "# for k in tqdm(range(1,10)):\n",
    "for k in range(1,10):\n",
    "    print(\"K : \", k)\n",
    "    var = o.kNN2(k)\n",
    "    list.append({\"k\": k, \"accuracy\": var})\n",
    "\n",
    "df = pd.DataFrame(list, columns=['k','accuracy']).set_index(\"k\")\n",
    "df.plot()"
   ]
  },
  {
   "cell_type": "code",
   "execution_count": null,
   "id": "e97252ef-af2e-4054-849d-5ea094cf3607",
   "metadata": {},
   "outputs": [],
   "source": []
  }
 ],
 "metadata": {
  "kernelspec": {
   "display_name": "Python 3",
   "language": "python",
   "name": "python3"
  },
  "language_info": {
   "codemirror_mode": {
    "name": "ipython",
    "version": 3
   },
   "file_extension": ".py",
   "mimetype": "text/x-python",
   "name": "python",
   "nbconvert_exporter": "python",
   "pygments_lexer": "ipython3",
   "version": "3.6.15"
  }
 },
 "nbformat": 4,
 "nbformat_minor": 5
}
