{
 "cells": [
  {
   "cell_type": "code",
   "execution_count": 3,
   "id": "4ec3d285-33bd-4a76-ab5b-d0ee5c0f290a",
   "metadata": {},
   "outputs": [],
   "source": [
    "import os\n",
    "import cv2\n",
    "import numpy as np\n",
    "from sklearn.neighbors import KNeighborsClassifier"
   ]
  },
  {
   "cell_type": "code",
   "execution_count": 11,
   "id": "0a23cd16-dd6e-4589-9c81-66827dd6b8d1",
   "metadata": {},
   "outputs": [
    {
     "ename": "NotADirectoryError",
     "evalue": "[Errno 20] Not a directory: '/jup/Epitech/Data/chest_Xray/train/ALL/person1430_bacteria_3697.jpeg'",
     "output_type": "error",
     "traceback": [
      "\u001b[0;31m---------------------------------------------------------------------------\u001b[0m",
      "\u001b[0;31mNotADirectoryError\u001b[0m                        Traceback (most recent call last)",
      "\u001b[0;32m<ipython-input-11-b5cc538d69cf>\u001b[0m in \u001b[0;36m<module>\u001b[0;34m\u001b[0m\n\u001b[1;32m     12\u001b[0m     \u001b[0mlabel\u001b[0m \u001b[0;34m=\u001b[0m \u001b[0;36m0\u001b[0m \u001b[0;32mif\u001b[0m \u001b[0mfoldername\u001b[0m \u001b[0;34m==\u001b[0m \u001b[0;34m\"normal\"\u001b[0m \u001b[0;32melse\u001b[0m \u001b[0;36m1\u001b[0m\u001b[0;34m\u001b[0m\u001b[0;34m\u001b[0m\u001b[0m\n\u001b[1;32m     13\u001b[0m     \u001b[0mfolderpath\u001b[0m \u001b[0;34m=\u001b[0m \u001b[0mos\u001b[0m\u001b[0;34m.\u001b[0m\u001b[0mpath\u001b[0m\u001b[0;34m.\u001b[0m\u001b[0mjoin\u001b[0m\u001b[0;34m(\u001b[0m\u001b[0mtrain_dir\u001b[0m\u001b[0;34m,\u001b[0m \u001b[0mfoldername\u001b[0m\u001b[0;34m)\u001b[0m\u001b[0;34m\u001b[0m\u001b[0;34m\u001b[0m\u001b[0m\n\u001b[0;32m---> 14\u001b[0;31m     \u001b[0;32mfor\u001b[0m \u001b[0mfilename\u001b[0m \u001b[0;32min\u001b[0m \u001b[0mos\u001b[0m\u001b[0;34m.\u001b[0m\u001b[0mlistdir\u001b[0m\u001b[0;34m(\u001b[0m\u001b[0mfolderpath\u001b[0m\u001b[0;34m)\u001b[0m\u001b[0;34m:\u001b[0m\u001b[0;34m\u001b[0m\u001b[0;34m\u001b[0m\u001b[0m\n\u001b[0m\u001b[1;32m     15\u001b[0m         \u001b[0mimgpath\u001b[0m \u001b[0;34m=\u001b[0m \u001b[0mos\u001b[0m\u001b[0;34m.\u001b[0m\u001b[0mpath\u001b[0m\u001b[0;34m.\u001b[0m\u001b[0mjoin\u001b[0m\u001b[0;34m(\u001b[0m\u001b[0mfolderpath\u001b[0m\u001b[0;34m,\u001b[0m \u001b[0mfilename\u001b[0m\u001b[0;34m)\u001b[0m\u001b[0;34m\u001b[0m\u001b[0;34m\u001b[0m\u001b[0m\n\u001b[1;32m     16\u001b[0m         \u001b[0mimg\u001b[0m \u001b[0;34m=\u001b[0m \u001b[0mcv2\u001b[0m\u001b[0;34m.\u001b[0m\u001b[0mimread\u001b[0m\u001b[0;34m(\u001b[0m\u001b[0mimgpath\u001b[0m\u001b[0;34m)\u001b[0m\u001b[0;34m\u001b[0m\u001b[0;34m\u001b[0m\u001b[0m\n",
      "\u001b[0;31mNotADirectoryError\u001b[0m: [Errno 20] Not a directory: '/jup/Epitech/Data/chest_Xray/train/ALL/person1430_bacteria_3697.jpeg'"
     ]
    }
   ],
   "source": [
    "# Définir le chemin du dossier contenant les images d'entraînement et de test\n",
    "train_dir = \"/jup/Epitech/Data/chest_Xray/train/ALL/\"\n",
    "test_dir = \"/jup/Epitech/Data/chest_Xray/test/ALL/\"\n",
    "\n",
    "# Définir le nombre de voisins à utiliser pour la classification K-NN\n",
    "n_neighbors = 5\n",
    "\n",
    "# Charger les images d'entraînement et de test, et leurs étiquettes\n",
    "train_images = []\n",
    "train_labels = []\n",
    "for foldername in os.listdir(train_dir):\n",
    "    label = 0 if foldername == \"normal\" else 1\n",
    "    folderpath = os.path.join(train_dir, foldername)\n",
    "    for filename in os.listdir(folderpath):\n",
    "        imgpath = os.path.join(folderpath, filename)\n",
    "        img = cv2.imread(imgpath)\n",
    "        img = cv2.resize(img, (64, 64))\n",
    "        img = cv2.cvtColor(img, cv2.COLOR_BGR2GRAY)\n",
    "        train_images.append(img.flatten())\n",
    "        train_labels.append(label)\n",
    "\n",
    "test_images = []\n",
    "test_labels = []\n",
    "for foldername in os.listdir(test_dir):\n",
    "    label = 0 if foldername == \"normal\" else 1\n",
    "    folderpath = os.path.join(test_dir, foldername)\n",
    "    for filename in os.listdir(folderpath):\n",
    "        imgpath = os.path.join(folderpath, filename)\n",
    "        img = cv2.imread(imgpath)\n",
    "        img = cv2.resize(img, (64, 64))\n",
    "        img = cv2.cvtColor(img, cv2.COLOR_BGR2GRAY)\n",
    "        test_images.append(img.flatten())\n",
    "        test_labels.append(label)\n",
    "\n",
    "# Créer un objet KNeighborsClassifier et entraîner le modèle sur les données d'entraînement\n",
    "knn = KNeighborsClassifier(n_neighbors=n_neighbors)\n",
    "knn.fit(train_images, train_labels)\n",
    "\n",
    "# Prédire les classes des images de test\n",
    "test_preds = knn.predict(test_images)\n",
    "\n",
    "# Calculer l'exactitude du modèle sur les données de test\n",
    "accuracy = np.mean(test_preds == test_labels)\n",
    "print(\"Exactitude du modèle : {:.2f}%\".format(accuracy*100))"
   ]
  },
  {
   "cell_type": "code",
   "execution_count": null,
   "id": "87723323-06af-48fb-9819-694177d67b88",
   "metadata": {},
   "outputs": [],
   "source": []
  }
 ],
 "metadata": {
  "kernelspec": {
   "display_name": "Python 3",
   "language": "python",
   "name": "python3"
  },
  "language_info": {
   "codemirror_mode": {
    "name": "ipython",
    "version": 3
   },
   "file_extension": ".py",
   "mimetype": "text/x-python",
   "name": "python",
   "nbconvert_exporter": "python",
   "pygments_lexer": "ipython3",
   "version": "3.6.15"
  }
 },
 "nbformat": 4,
 "nbformat_minor": 5
}
