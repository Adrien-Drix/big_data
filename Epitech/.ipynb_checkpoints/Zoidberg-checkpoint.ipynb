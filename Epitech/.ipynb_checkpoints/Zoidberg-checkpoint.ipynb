{
 "cells": [
  {
   "cell_type": "code",
   "execution_count": 2,
   "id": "b3bf2383-3e4b-4254-9fca-0be8d7b48a13",
   "metadata": {},
   "outputs": [],
   "source": [
    "import os\n",
    "import re\n",
    "import matplotlib.image as mpimg\n",
    "import numpy as np\n",
    "import pandas as pd"
   ]
  },
  {
   "cell_type": "code",
   "execution_count": 3,
   "id": "64f68f22-f315-40d5-be93-9c375142485e",
   "metadata": {},
   "outputs": [],
   "source": [
    "class DataProcessing:\n",
    "    \n",
    "    dataset = None\n",
    "    \n",
    "    def crop(self, img, size):\n",
    "        middleH = img.shape[0] / 2\n",
    "        middleW = img.shape[1] / 2\n",
    "\n",
    "        lowH = middleH - (size / 2)\n",
    "        maxH = middleH + (size / 2)\n",
    "\n",
    "        lowW = middleW - (size / 2)\n",
    "        maxW = middleW + (size / 2)\n",
    "\n",
    "        cropped = img[int(lowH):int(maxH), int(lowW):int(maxW)]\n",
    "        return cropped\n",
    "    \n",
    "    def data_formatting(self, path):\n",
    "        # List all name of images file in a table\n",
    "        images_name = [f for f in os.listdir(path) if re.match(r'.*\\.jpeg', f)]\n",
    "\n",
    "        # Create table of label and image path\n",
    "        labels = []\n",
    "        images_path = []\n",
    "        counter = 0\n",
    "\n",
    "        # Create a table of reformatted images\n",
    "        images = []\n",
    "        good_images = []\n",
    "        bad_images = []\n",
    "\n",
    "        for image_name in images_name:\n",
    "            img = mpimg.imread(path + image_name)\n",
    "            if img.ndim == 2:\n",
    "                cropped = self.crop(img, 200)\n",
    "                cropped = cropped / 255\n",
    "                cropped = np.reshape(cropped, 40000)\n",
    "                good_images.append(cropped)\n",
    "                if \"virus\" in image_name:\n",
    "                    labels.append(\"virus\")\n",
    "                elif \"bacteria\" in image_name:\n",
    "                    labels.append(\"bacteria\")\n",
    "                else:\n",
    "                    labels.append(\"normal\")\n",
    "            elif img.ndim == 3:\n",
    "                bad_images.append(img)\n",
    "\n",
    "        return good_images, labels\n",
    "    \n",
    "    def load_dataset(self):\n",
    "        \n",
    "        print(\"============= LOADING DATASET =============\")\n",
    "\n",
    "        train_images, train_labels = self.data_formatting(\"Epitech/Data/chest_Xray/train/ALL/\")\n",
    "\n",
    "        # data = {\n",
    "        #     'np_images_training': np.array(train_images),\n",
    "        #     'np_labels_training': np.array(train_labels),\n",
    "        # }\n",
    "        self.df_train = pd.DataFrame([np.array(train_images), np.array(train_labels)])\n",
    "        \n",
    "        print(\"============= TRAIN VALUES OK =============\")\n",
    "        \n",
    "        test_images, test_labels = self.data_formatting(\"Epitech/Data/chest_Xray/test/ALL/\")\n",
    "        \n",
    "        # data = {\n",
    "        #     'np_images_testing': np.array(test_images, dtype=object),\n",
    "        #     'np_labels_testing': np.array(test_labels, dtype=object),\n",
    "        # }\n",
    "        self.df_test = pd.DataFrame.from_dict([np.array(test_images), np.array(test_labels)])    \n",
    "        \n",
    "        print(\"============= TEST VALUES OK =============\")\n",
    "        \n",
    "        validation_images, validation_labels = self.data_formatting(\"Epitech/Data/chest_Xray/val/ALL/\")\n",
    "        \n",
    "        # data = {\n",
    "        #     \"np_images_validation\": np.array(validation_images, dtype=object),\n",
    "        #     \"np_labels_validation\": np.array(validation_labels, dtype=object),\n",
    "        # }\n",
    "        self.df_vali = pd.DataFrame.from_dict([np.array(validation_images), np.array(validation_labels)])\n",
    "        \n",
    "        print(\"============= VALIDATION VALUES OK =============\")\n",
    "        \n",
    "        print(\"============= DATASET LOADED =============\")\n",
    "        \n",
    "        # return data\n",
    "        return"
   ]
  },
  {
   "cell_type": "code",
   "execution_count": 4,
   "id": "d6550ea8-2e0e-4914-bdea-eb3b34de50a9",
   "metadata": {
    "tags": []
   },
   "outputs": [
    {
     "name": "stdout",
     "output_type": "stream",
     "text": [
      "============= LOADING DATASET =============\n"
     ]
    },
    {
     "name": "stderr",
     "output_type": "stream",
     "text": [
      "/usr/local/lib/python3.6/site-packages/pandas/core/internals/construction.py:305: VisibleDeprecationWarning: Creating an ndarray from ragged nested sequences (which is a list-or-tuple of lists-or-tuples-or ndarrays with different lengths or shapes) is deprecated. If you meant to do this, you must specify 'dtype=object' when creating the ndarray\n",
      "  values = np.array([convert(v) for v in values])\n"
     ]
    },
    {
     "name": "stdout",
     "output_type": "stream",
     "text": [
      "============= TRAIN VALUES OK =============\n",
      "============= TEST VALUES OK =============\n",
      "============= VALIDATION VALUES OK =============\n",
      "============= DATASET LOADED =============\n"
     ]
    },
    {
     "ename": "NameError",
     "evalue": "name 'data' is not defined",
     "output_type": "error",
     "traceback": [
      "\u001b[0;31m---------------------------------------------------------------------------\u001b[0m",
      "\u001b[0;31mNameError\u001b[0m                                 Traceback (most recent call last)",
      "\u001b[0;32m<ipython-input-4-4a9a59714042>\u001b[0m in \u001b[0;36m<module>\u001b[0;34m\u001b[0m\n\u001b[1;32m      1\u001b[0m \u001b[0mo\u001b[0m \u001b[0;34m=\u001b[0m \u001b[0mDataProcessing\u001b[0m\u001b[0;34m(\u001b[0m\u001b[0;34m)\u001b[0m\u001b[0;34m\u001b[0m\u001b[0;34m\u001b[0m\u001b[0m\n\u001b[0;32m----> 2\u001b[0;31m \u001b[0mdata\u001b[0m \u001b[0;34m=\u001b[0m \u001b[0mo\u001b[0m\u001b[0;34m.\u001b[0m\u001b[0mload_dataset\u001b[0m\u001b[0;34m(\u001b[0m\u001b[0;34m)\u001b[0m\u001b[0;34m\u001b[0m\u001b[0;34m\u001b[0m\u001b[0m\n\u001b[0m",
      "\u001b[0;32m<ipython-input-3-29532b3f02ee>\u001b[0m in \u001b[0;36mload_dataset\u001b[0;34m(self)\u001b[0m\n\u001b[1;32m     84\u001b[0m         \u001b[0mprint\u001b[0m\u001b[0;34m(\u001b[0m\u001b[0;34m\"============= DATASET LOADED =============\"\u001b[0m\u001b[0;34m)\u001b[0m\u001b[0;34m\u001b[0m\u001b[0;34m\u001b[0m\u001b[0m\n\u001b[1;32m     85\u001b[0m \u001b[0;34m\u001b[0m\u001b[0m\n\u001b[0;32m---> 86\u001b[0;31m         \u001b[0;32mreturn\u001b[0m \u001b[0mdata\u001b[0m\u001b[0;34m\u001b[0m\u001b[0;34m\u001b[0m\u001b[0m\n\u001b[0m",
      "\u001b[0;31mNameError\u001b[0m: name 'data' is not defined"
     ]
    }
   ],
   "source": [
    "o = DataProcessing()\n",
    "data = o.load_dataset()"
   ]
  },
  {
   "cell_type": "code",
   "execution_count": 4,
   "id": "079d71eb-3279-4033-ab5c-61c1d63e671a",
   "metadata": {},
   "outputs": [
    {
     "ename": "NameError",
     "evalue": "name 'dict_training' is not defined",
     "output_type": "error",
     "traceback": [
      "\u001b[0;31m---------------------------------------------------------------------------\u001b[0m",
      "\u001b[0;31mNameError\u001b[0m                                 Traceback (most recent call last)",
      "\u001b[0;32m<ipython-input-5-b66d79e856f0>\u001b[0m in \u001b[0;36m<module>\u001b[0;34m\u001b[0m\n\u001b[0;32m----> 1\u001b[0;31m \u001b[0mdict_training\u001b[0m\u001b[0;34m.\u001b[0m\u001b[0mkeys\u001b[0m\u001b[0;34m(\u001b[0m\u001b[0;34m)\u001b[0m\u001b[0;34m\u001b[0m\u001b[0;34m\u001b[0m\u001b[0m\n\u001b[0m",
      "\u001b[0;31mNameError\u001b[0m: name 'dict_training' is not defined"
     ]
    }
   ],
   "source": [
    "data.keys()"
   ]
  },
  {
   "cell_type": "code",
   "execution_count": 18,
   "id": "cf26bee0-adb6-4b4a-808f-96af1b584799",
   "metadata": {},
   "outputs": [
    {
     "ename": "TypeError",
     "evalue": "unhashable type: 'list'",
     "output_type": "error",
     "traceback": [
      "\u001b[0;31m---------------------------------------------------------------------------\u001b[0m",
      "\u001b[0;31mTypeError\u001b[0m                                 Traceback (most recent call last)",
      "\u001b[0;32m<ipython-input-19-ef3b48e8f40c>\u001b[0m in \u001b[0;36m<module>\u001b[0;34m\u001b[0m\n\u001b[1;32m      1\u001b[0m \u001b[0mdict_training\u001b[0m \u001b[0;34m=\u001b[0m \u001b[0;34m{\u001b[0m\u001b[0;34m}\u001b[0m\u001b[0;34m\u001b[0m\u001b[0;34m\u001b[0m\u001b[0m\n\u001b[0;32m----> 2\u001b[0;31m \u001b[0mdict_training\u001b[0m \u001b[0;34m=\u001b[0m \u001b[0mdata\u001b[0m\u001b[0;34m[\u001b[0m\u001b[0;34m[\u001b[0m\u001b[0;34m\"np_images_training\"\u001b[0m\u001b[0;34m,\u001b[0m \u001b[0;34m\"np_labels_training\"\u001b[0m\u001b[0;34m]\u001b[0m\u001b[0;34m]\u001b[0m\u001b[0;34m\u001b[0m\u001b[0;34m\u001b[0m\u001b[0m\n\u001b[0m\u001b[1;32m      3\u001b[0m \u001b[0mdf\u001b[0m \u001b[0;34m=\u001b[0m \u001b[0mpd\u001b[0m\u001b[0;34m.\u001b[0m\u001b[0mDataFrame\u001b[0m\u001b[0;34m.\u001b[0m\u001b[0mfrom_dict\u001b[0m\u001b[0;34m(\u001b[0m\u001b[0mdict_training\u001b[0m\u001b[0;34m)\u001b[0m\u001b[0;34m\u001b[0m\u001b[0;34m\u001b[0m\u001b[0m\n",
      "\u001b[0;31mTypeError\u001b[0m: unhashable type: 'list'"
     ]
    }
   ],
   "source": [
    "dict_training = {}\n",
    "dict_training[\"np_images_training\"] = data[\"np_images_training\"]\n",
    "dict_training[\"np_labels_training\"] = data[]\n",
    "df = pd.DataFrame.from_dict(dict_training)"
   ]
  },
  {
   "cell_type": "code",
   "execution_count": null,
   "id": "e5bc621b-a1b6-4a3b-8ccc-3b4d68fcaba7",
   "metadata": {},
   "outputs": [],
   "source": []
  }
 ],
 "metadata": {
  "kernelspec": {
   "display_name": "Python 3",
   "language": "python",
   "name": "python3"
  },
  "language_info": {
   "codemirror_mode": {
    "name": "ipython",
    "version": 3
   },
   "file_extension": ".py",
   "mimetype": "text/x-python",
   "name": "python",
   "nbconvert_exporter": "python",
   "pygments_lexer": "ipython3",
   "version": "3.6.15"
  }
 },
 "nbformat": 4,
 "nbformat_minor": 5
}
